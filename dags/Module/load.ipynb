## set up the the DB client Library
%pip install psycopg2
! pip install sqlalchemy
%pip install python-dotenv
